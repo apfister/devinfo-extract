{
 "cells": [
  {
   "cell_type": "markdown",
   "metadata": {},
   "source": [
    "### requirements"
   ]
  },
  {
   "cell_type": "code",
   "execution_count": null,
   "metadata": {},
   "outputs": [],
   "source": [
    "import pyodbc\n",
    "from IPython.display import clear_output\n",
    "# [x for x in pyodbc.drivers() if x.startswith('Microsoft Access Driver')]\n",
    "# if you see [], you may need to install the 64-bit ACE drivers\n",
    "# https://github.com/mkleehammer/pyodbc/wiki/Connecting-to-Microsoft-Access\n",
    "# 64bit drivers : https://www.microsoft.com/en-us/download/confirmation.aspx?id=13255\n",
    "\n",
    "from osgeo import ogr, osr\n",
    "sr = osr.SpatialReference()\n",
    "sr.ImportFromEPSG(4326)\n",
    "sr.MorphToESRI()"
   ]
  },
  {
   "cell_type": "markdown",
   "metadata": {},
   "source": [
    "### execute the stored access query\n",
    "`export_shps` is the name of the stored query in the Access Db"
   ]
  },
  {
   "cell_type": "code",
   "execution_count": null,
   "metadata": {},
   "outputs": [],
   "source": [
    "connStr = (\n",
    "    r\"Driver={Microsoft Access Driver (*.mdb, *.accdb)};\"\n",
    "    r\"DBQ=Z:\\dev\\nepal-import\\NepalInfo2016_for_python.accdb;\"\n",
    "    )\n",
    "cnxn = pyodbc.connect(connStr)\n",
    "sql = \"\"\"\\\n",
    "SELECT layer_shp, layer_shx, layer_dbf, layer_nid, layer_name, area_id FROM export_shps \n",
    "\"\"\"\n",
    "crsr = cnxn.execute(sql)\n",
    "\n",
    "# export just a subset for testing\n",
    "rows = crsr.fetchmany(20)\n",
    "\n",
    "# uncomment this to get crazy and export them all!!\n",
    "# rows = crsr.fetchall()\n",
    "\n"
   ]
  },
  {
   "cell_type": "markdown",
   "metadata": {},
   "source": [
    "### loop through the results\n",
    "the `out_file` will have an ID at the end, after the double-underscore ( `__` ). use this to join up to the raw data from the other stored access query"
   ]
  },
  {
   "cell_type": "code",
   "execution_count": null,
   "metadata": {
    "collapsed": true
   },
   "outputs": [],
   "source": [
    "row_count = len(rows)\n",
    "\n",
    "output_folder = 'shapes'\n",
    "\n",
    "for i, row in enumerate(rows):\n",
    "\n",
    "    shp = row[0]\n",
    "    shx = row[1]\n",
    "    dbf = row[2]\n",
    "    \n",
    "    shp_name = row[4]\n",
    "    \n",
    "    area_id = row[5]\n",
    "    \n",
    "    out_file = '{}/{}__{}'.format(output_folder, shp_name, area_id)\n",
    "    \n",
    "    print ('adding {} of {}'.format(i, row_count))\n",
    "    clear_output(wait=True)\n",
    "    \n",
    "    with open('{}.shp'.format(out_file), 'wb') as writer:\n",
    "        writer.write(shp)\n",
    "    with open('{}.shx'.format(out_file), 'wb') as writer:\n",
    "        writer.write(shx)\n",
    "    with open('{}.dbf'.format(out_file), 'wb') as writer:\n",
    "        writer.write(dbf)\n",
    "    with open('{}.prj'.format(out_file), 'w') as writer:\n",
    "        writer.write(sr.ExportToWkt())\n",
    "    \n",
    "print ('done')"
   ]
  }
 ],
 "metadata": {
  "kernelspec": {
   "display_name": "Python 3",
   "language": "python",
   "name": "python3"
  },
  "language_info": {
   "codemirror_mode": {
    "name": "ipython",
    "version": 3
   },
   "file_extension": ".py",
   "mimetype": "text/x-python",
   "name": "python",
   "nbconvert_exporter": "python",
   "pygments_lexer": "ipython3",
   "version": "3.6.3"
  }
 },
 "nbformat": 4,
 "nbformat_minor": 2
}
